{
 "cells": [
  {
   "attachments": {},
   "cell_type": "markdown",
   "metadata": {},
   "source": [
    "数据格式参考 `../data/seq-to-seq_datasets/uspto_50.pickle` `['reactants_mol', 'products_mol', 'reaction_type', 'set']`"
   ]
  },
  {
   "cell_type": "code",
   "execution_count": 29,
   "metadata": {},
   "outputs": [],
   "source": [
    "import pandas as pd\n",
    "from pathlib import Path\n",
    "from rdkit.Chem import AllChem\n",
    "from tqdm import tqdm\n",
    "from sklearn.model_selection import StratifiedKFold, train_test_split\n",
    "import pickle\n",
    "from collections import Counter"
   ]
  },
  {
   "cell_type": "code",
   "execution_count": 30,
   "metadata": {},
   "outputs": [],
   "source": [
    "RAW = Path(\"data/data.csv\")\n",
    "OUT_PATH = Path(\"data/radicals\")"
   ]
  },
  {
   "cell_type": "code",
   "execution_count": 31,
   "metadata": {},
   "outputs": [
    {
     "name": "stdout",
     "output_type": "stream",
     "text": [
      "17702\n"
     ]
    },
    {
     "data": {
      "text/html": [
       "<div>\n",
       "<style scoped>\n",
       "    .dataframe tbody tr th:only-of-type {\n",
       "        vertical-align: middle;\n",
       "    }\n",
       "\n",
       "    .dataframe tbody tr th {\n",
       "        vertical-align: top;\n",
       "    }\n",
       "\n",
       "    .dataframe thead th {\n",
       "        text-align: right;\n",
       "    }\n",
       "</style>\n",
       "<table border=\"1\" class=\"dataframe\">\n",
       "  <thead>\n",
       "    <tr style=\"text-align: right;\">\n",
       "      <th></th>\n",
       "      <th>id</th>\n",
       "      <th>mapped</th>\n",
       "      <th>confidence</th>\n",
       "      <th>rxn</th>\n",
       "      <th>reference</th>\n",
       "      <th>cls</th>\n",
       "    </tr>\n",
       "  </thead>\n",
       "  <tbody>\n",
       "    <tr>\n",
       "      <th>0</th>\n",
       "      <td>0</td>\n",
       "      <td>O=N[C:2]([CH3:1])([C:3]([CH3:4])=[O:5])[C:6]([...</td>\n",
       "      <td>0.745358</td>\n",
       "      <td>CC(=O)C(C)(N=O)C(C)=O&gt;&gt;C[C](C(C)=O)C(C)=O</td>\n",
       "      <td>Article; Li, Xin; Deng, Hui; Zhu, Xiao-Qing; W...</td>\n",
       "      <td>Others</td>\n",
       "    </tr>\n",
       "    <tr>\n",
       "      <th>1</th>\n",
       "      <td>1</td>\n",
       "      <td>[CH3:1][CH:2]([CH3:3])[C:4]([CH3:5])=[O:6]&gt;&gt;[C...</td>\n",
       "      <td>0.696944</td>\n",
       "      <td>CC(=O)C(C)C&gt;&gt;C[C](C)C(C)=O</td>\n",
       "      <td>Article; Paul, Vikram; Roberts, Brian P.; Will...</td>\n",
       "      <td>Others</td>\n",
       "    </tr>\n",
       "    <tr>\n",
       "      <th>2</th>\n",
       "      <td>3</td>\n",
       "      <td>[CH3:1][C:2]([CH3:3])=[C:4]=[C:13]([CH3:14])[C...</td>\n",
       "      <td>0.174191</td>\n",
       "      <td>CC(C)=C=C(C)C.Clc1ccc(SSc2ccc(Cl)cc2)cc1&gt;&gt;C[C]...</td>\n",
       "      <td>Article; Ito, Osamu; Journal of Organic Chemis...</td>\n",
       "      <td>Others</td>\n",
       "    </tr>\n",
       "    <tr>\n",
       "      <th>3</th>\n",
       "      <td>4</td>\n",
       "      <td>[CH3:1][C:2]([CH3:3])=[C:4]=[C:13]([CH3:14])[C...</td>\n",
       "      <td>0.190390</td>\n",
       "      <td>CC(C)=C=C(C)C.Cc1ccc(SSc2ccc(C)cc2)cc1&gt;&gt;C[C](C...</td>\n",
       "      <td>Article; Ito, Osamu; Journal of Organic Chemis...</td>\n",
       "      <td>Others</td>\n",
       "    </tr>\n",
       "    <tr>\n",
       "      <th>4</th>\n",
       "      <td>5</td>\n",
       "      <td>Brc1ccc(S[S:5][c:6]2[cH:7][cH:8][c:9]([Br:10])...</td>\n",
       "      <td>0.217506</td>\n",
       "      <td>Brc1ccc(SSc2ccc(Br)cc2)cc1.CC(C)=C=C(C)C&gt;&gt;C[C]...</td>\n",
       "      <td>Article; Ito, Osamu; Journal of Organic Chemis...</td>\n",
       "      <td>Others</td>\n",
       "    </tr>\n",
       "  </tbody>\n",
       "</table>\n",
       "</div>"
      ],
      "text/plain": [
       "   id                                             mapped  confidence  \\\n",
       "0   0  O=N[C:2]([CH3:1])([C:3]([CH3:4])=[O:5])[C:6]([...    0.745358   \n",
       "1   1  [CH3:1][CH:2]([CH3:3])[C:4]([CH3:5])=[O:6]>>[C...    0.696944   \n",
       "2   3  [CH3:1][C:2]([CH3:3])=[C:4]=[C:13]([CH3:14])[C...    0.174191   \n",
       "3   4  [CH3:1][C:2]([CH3:3])=[C:4]=[C:13]([CH3:14])[C...    0.190390   \n",
       "4   5  Brc1ccc(S[S:5][c:6]2[cH:7][cH:8][c:9]([Br:10])...    0.217506   \n",
       "\n",
       "                                                 rxn  \\\n",
       "0          CC(=O)C(C)(N=O)C(C)=O>>C[C](C(C)=O)C(C)=O   \n",
       "1                         CC(=O)C(C)C>>C[C](C)C(C)=O   \n",
       "2  CC(C)=C=C(C)C.Clc1ccc(SSc2ccc(Cl)cc2)cc1>>C[C]...   \n",
       "3  CC(C)=C=C(C)C.Cc1ccc(SSc2ccc(C)cc2)cc1>>C[C](C...   \n",
       "4  Brc1ccc(SSc2ccc(Br)cc2)cc1.CC(C)=C=C(C)C>>C[C]...   \n",
       "\n",
       "                                           reference     cls  \n",
       "0  Article; Li, Xin; Deng, Hui; Zhu, Xiao-Qing; W...  Others  \n",
       "1  Article; Paul, Vikram; Roberts, Brian P.; Will...  Others  \n",
       "2  Article; Ito, Osamu; Journal of Organic Chemis...  Others  \n",
       "3  Article; Ito, Osamu; Journal of Organic Chemis...  Others  \n",
       "4  Article; Ito, Osamu; Journal of Organic Chemis...  Others  "
      ]
     },
     "execution_count": 31,
     "metadata": {},
     "output_type": "execute_result"
    }
   ],
   "source": [
    "df_raw = pd.read_csv(RAW)\n",
    "print(len(df_raw))\n",
    "df_raw.head()"
   ]
  },
  {
   "cell_type": "code",
   "execution_count": 32,
   "metadata": {},
   "outputs": [
    {
     "name": "stderr",
     "output_type": "stream",
     "text": [
      "  6%|▌         | 998/17702 [00:00<00:01, 9978.08it/s]"
     ]
    },
    {
     "name": "stdout",
     "output_type": "stream",
     "text": [
      "The Num of Prods is not 1, skipped Cl.O=Cc1ccc(-c2ccc3ncnc(Nc4ccc(OCc5cccc(F)c5)c(Cl)c4)c3c2)o1\n",
      "The Num of Prods is not 1, skipped Cl.NCc1ccc(-c2ccccc2O)o1\n",
      "The Num of Prods is not 1, skipped O=C(O)c1ccoc1-c1ccccc1[N+](=O)[O-].O=C(O)c1coc(-c2ccccc2[N+](=O)[O-])c1\n",
      "The Num of Prods is not 1, skipped O=C(c1ccccc1)c1ccc(-c2ccccc2)nc1.O=C(c1ccccc1)c1cnccc1-c1ccccc1\n",
      "The Num of Prods is not 1, skipped N#Cc1ccnc(-c2ccccc2F)c1.N#Cc1ccncc1-c1ccccc1F\n",
      "The Num of Prods is not 1, skipped CC(=O)N[C@@H](CC(C)C)c1cc(C)c2ccccc2n1.CC(=O)N[C@H](CC(C)C)c1cc(C)c2ccccc2n1\n",
      "The Num of Prods is not 1, skipped CC(=O)c1cc(C(=O)c2ccccc2)c(Cl)nn1.CC(=O)c1nnc(Cl)cc1C(=O)c1ccccc1\n",
      "The Num of Prods is not 1, skipped COc1cc(CNC(=O)c2ccccc2)c(Cl)nn1.COc1nnc(Cl)cc1CNC(=O)c1ccccc1\n",
      "The Num of Prods is not 1, skipped c1ccc(-c2cc(C3COCCO3)cc(C3COCCO3)n2)cc1.c1ccc(-c2cc(C3COCCO3)ccn2)cc1.c1ccc(-c2cccc(C3COCCO3)n2)cc1\n",
      "The Num of Prods is not 1, skipped N#Cc1ccc(-c2ccccc2)nc1.N#Cc1cccnc1-c1ccccc1.N#Cc1cnccc1-c1ccccc1\n",
      "The Num of Prods is not 1, skipped Cc1cc(C2CCCO2)c2ccccc2n1.Cc1cc(C2CCN2C(=O)OC(C)(C)C)c2ccccc2n1\n",
      "The Num of Prods is not 1, skipped COc1ccc2nc(-c3ccccc3)ccc2c1.COc1ccc2nccc(-c3ccccc3)c2c1\n",
      "The Num of Prods is not 1, skipped CC1(c2nccc3ccccc23)CCCO1.CC1CCC(c2nccc3ccccc23)O1\n",
      "The Num of Prods is not 1, skipped CCOC(C)c1cccc(-c2ccccc2)n1.CCOC(C)c1ccnc(-c2ccccc2)c1\n",
      "The Num of Prods is not 1, skipped N#Cc1ccnc(-c2ccc(Cl)cc2)c1.N#Cc1ccncc1-c1ccc(Cl)cc1\n",
      "The Num of Prods is not 1, skipped Cc1ccc(C(=O)c2cc(C(=O)c3ccc(C)cc3)c3ccccc3n2)cc1.Cc1ccc(C(=O)c2ccc3ccccc3n2)cc1\n",
      "The Num of Prods is not 1, skipped COc1ccc2nc([C@H](Cc3ccccc3)NC(C)=O)ccc2c1.COc1ccc2nccc([C@H](Cc3ccccc3)NC(C)=O)c2c1\n",
      "The Num of Prods is not 1, skipped COC(CCN(C)C(=O)OC(C)(C)C)c1cc(C)nc2ccccc12.COCCCN(Cc1cc(C)nc2ccccc12)C(=O)OC(C)(C)C\n",
      "The Num of Prods is not 1, skipped Cc1cc(CNC(=O)c2ccccc2)c(Cl)nn1.Cc1nnc(Cl)cc1CNC(=O)c1ccccc1\n"
     ]
    },
    {
     "name": "stderr",
     "output_type": "stream",
     "text": [
      " 11%|█▏        | 1996/17702 [00:00<00:01, 8630.18it/s]"
     ]
    },
    {
     "name": "stdout",
     "output_type": "stream",
     "text": [
      "The Num of Prods is not 1, skipped CN1C(=O)CCC1c1nccc2ccccc12.O=C1CCCN1Cc1nccc2ccccc12\n",
      "The Num of Prods is not 1, skipped CCOC(=O)c1ccnc(-c2ccc(F)cc2F)c1.CCOC(=O)c1ccncc1-c1ccc(F)cc1F\n",
      "The Num of Prods is not 1, skipped CC1(c2nc(C3(C)CCCCC3)c3nc[nH]c3n2)CCCCC1.CC1(c2ncnc3[nH]cnc23)CCCCC1\n",
      "The Num of Prods is not 1, skipped O=C(c1ccccc1)c1nnc(C(=O)c2ccccc2)c2ccccc12.O=C(c1ccccc1)c1nncc2ccccc12\n",
      "The Num of Prods is not 1, skipped CC(C)Oc1cc(CNC(=O)c2ccccc2)c(Cl)nn1.CC(C)Oc1nnc(Cl)cc1CNC(=O)c1ccccc1\n",
      "The Num of Prods is not 1, skipped Cc1cc(C(=O)N(C)C)c2ccccc2n1.Cc1cc(CN(C)C=O)c2ccccc2n1\n",
      "The Num of Prods is not 1, skipped COc1ccc(C(F)(F)c2ccc3ccccc3n2)cc1.COc1ccc(C(F)(F)c2ccnc3ccccc23)cc1\n",
      "The Num of Prods is not 1, skipped c1ccc(-c2ccc3ccccc3n2)cc1.c1ccc(-c2ccnc3ccccc23)cc1\n",
      "The Num of Prods is not 1, skipped COc1nn2ccnc2c(C(=O)c2ccccc2)c1C(=O)c1ccccc1.COc1nn2ccnc2cc1C(=O)c1ccccc1\n",
      "The Num of Prods is not 1, skipped N#Cc1ccnc(-c2ccccc2)c1.N#Cc1ccncc1-c1ccccc1\n",
      "The Num of Prods is not 1, skipped CCOC(=O)[C@@H]1C[C@H](c2cc(C)nc3ccccc23)N1C(=O)OC(C)(C)C.CCOC(=O)[C@H]1C[C@H](c2cc(C)nc3ccccc23)N1C(=O)OC(C)(C)C\n",
      "The Num of Prods is not 1, skipped COc1ccc(C(F)(F)c2cnc3c(C)cccc3n2)cc1.COc1ccc(C(F)(F)c2cnc3cccc(C)c3n2)cc1\n",
      "The Num of Prods is not 1, skipped CC(=O)N[C@@H](Cc1ccccc1)c1ccc2cc(Cl)ccc2n1.CC(=O)N[C@@H](Cc1ccccc1)c1ccnc2ccc(Cl)cc12\n",
      "The Num of Prods is not 1, skipped O=C(NCc1cc(-c2ccccc2)nnc1Cl)c1ccccc1.O=C(NCc1cc(Cl)nnc1-c1ccccc1)c1ccccc1\n",
      "The Num of Prods is not 1, skipped Cc1ccc(-c2cc(C#N)ccn2)cc1.Cc1ccc(-c2cnccc2C#N)cc1\n",
      "The Num of Prods is not 1, skipped c1ccc2c(C3COCO3)nccc2c1.c1ccc2c(C3OCCO3)nccc2c1\n",
      "The Num of Prods is not 1, skipped Cc1nc(C2COCCO2)c(C2COCCO2)nc1C.Cc1ncc(C2COCCO2)nc1C\n",
      "The Num of Prods is not 1, skipped CS(=O)C1(C(=O)O)CC1.CS(=O)C1(c2cc(Cl)nc(Cl)n2)CC1.CSC1(c2cc(Cl)nc(Cl)n2)CC1\n"
     ]
    },
    {
     "name": "stderr",
     "output_type": "stream",
     "text": [
      " 16%|█▌        | 2871/17702 [00:00<00:01, 8114.39it/s]"
     ]
    },
    {
     "name": "stdout",
     "output_type": "stream",
     "text": [
      "The Num of Prods is not 1, skipped Nc1cc(C2CCCCC2)c(Cl)nn1.Nc1nnc(Cl)cc1C1CCCCC1\n",
      "The Num of Prods is not 1, skipped c1cc2c(C3CCCCC3)nc(C3CCCCC3)nc2[nH]1.c1cc2cnc(C3CCCCC3)nc2[nH]1\n",
      "The Num of Prods is not 1, skipped I.[CH3].[Ca]\n",
      "The Num of Prods is not 1, skipped CCOC(=O)/C=C1/CC(c2ccccc2)(C(F)(F)F)O1.CCOC(=O)/C=C1\\CC(c2ccccc2)(C(F)(F)F)O1\n",
      "The Num of Prods is not 1, skipped CC(C)(C)N1C[C@]2(C)CCCOc3ccccc3[C@H]12.[O-][Cl+3]([O-])([O-])O\n",
      "The Num of Prods is not 1, skipped Cc1ccc2c(c1)OCCC[C@@]1(C)CN(C(C)(C)C)[C@@H]21.[O-][Cl+3]([O-])([O-])O\n",
      "The Num of Prods is not 1, skipped C[Si](C)(C)CNCCCC1=CC(=O)CCC1.Cl\n"
     ]
    },
    {
     "name": "stderr",
     "output_type": "stream",
     "text": [
      " 40%|███▉      | 7059/17702 [00:00<00:01, 8150.69it/s]"
     ]
    },
    {
     "name": "stdout",
     "output_type": "stream",
     "text": [
      "The Num of Prods is not 1, skipped CC1=C(CCl)C2=c3oc(=O)oc3=C3C(C[n+]4ccccc4)=C(C)SC3(C)C2(C)S1.[Cl-]\n",
      "The Num of Prods is not 1, skipped [Cl-].c1ccc(-c2n3ccccc3c3cccc[n+]23)cc1\n",
      "The Num of Prods is not 1, skipped Cc1ccc2c(c1)C(C)(C)C1(C=Cc3c(ccc4c3ccc[n+]4C)O1)N2C.[I-]\n",
      "The Num of Prods is not 1, skipped CC1=CC2[B-]3(c4c(C)cc(C)cc4C)c4cc(C(C)(C)C)ccc4-c4ccc(C(C)(C)C)cc4C23C=C1.[K+]\n",
      "The Num of Prods is not 1, skipped CN[N+](C)(C)C(c1ccc(N2CCOCC2)cc1)c1ccc(N2CCOCC2)cc1.F[B-](F)(F)F\n",
      "The Num of Prods is not 1, skipped C=CCN1c2ccccc2C(C)(C)C12C=Cc1c(ccc3c1ccc[n+]3C)O2.[I-]\n",
      "The Num of Prods is not 1, skipped CCCN1c2ccccc2C(C)(C)C12C=Cc1c(ccc3c1ccc[n+]3C)O2.[I-]\n",
      "The Num of Prods is not 1, skipped CC1=CC2(C)[B-]3(c4c(C)cc(C)cc4C)c4ccccc4-c4ccccc4C32C(C)=C1.[K+]\n",
      "The Num of Prods is not 1, skipped CC1=CC2(C)[B-]3(c4c(C)cc(C)cc4C)c4cc(C(C)(C)C)ccc4-c4ccc(C(C)(C)C)cc4C32C(C)=C1.[K+]\n",
      "The Num of Prods is not 1, skipped CC1=CC2[B-]3(c4c(C)cc(C)cc4C)c4ccccc4-c4ccccc4C23C=C1.[K+]\n",
      "The Num of Prods is not 1, skipped O=S(=O)([O-])c1cccc2c3c(ccc12)O3.[Na+]\n",
      "The Num of Prods is not 1, skipped O=C=C1C=C(S(=O)(=O)[O-])c2ccccc21.[Na+]\n",
      "The Num of Prods is not 1, skipped COC(=O)C1=CC(S(=O)(=O)[O-])c2ccccc21.[Na+]\n",
      "The Num of Prods is not 1, skipped COC(=O)C1=CCc2c1cccc2S(=O)(=O)[O-].[Na+]\n",
      "The Num of Prods is not 1, skipped O=C(c1ccccc1)[C-](C(=O)N1CCCCC1)c1ccccc1.[H+]\n",
      "The Num of Prods is not 1, skipped CC(C)NC(=O)[C-](C(=O)c1ccccc1)c1ccccc1.[H+]\n",
      "The Num of Prods is not 1, skipped CCN(CC)C(=O)[C-](C(=O)c1ccccc1)c1ccccc1.[H+]\n",
      "The Num of Prods is not 1, skipped CCCCNC(=O)[C-](C(=O)c1ccccc1)c1ccccc1.[H+]\n",
      "The Num of Prods is not 1, skipped O=C(NCc1ccccc1)[C-](C(=O)c1ccccc1)c1ccccc1.[H+]\n",
      "The Num of Prods is not 1, skipped CCOP(=O)(OCC)C(N(OC(C)(C)C(=O)[O-])C(C)(C)C)C(C)(C)C.[Na+]\n"
     ]
    },
    {
     "name": "stderr",
     "output_type": "stream",
     "text": [
      " 49%|████▉     | 8655/17702 [00:01<00:01, 7396.69it/s]"
     ]
    },
    {
     "name": "stdout",
     "output_type": "stream",
     "text": [
      "The Num of Prods is not 1, skipped C=C.COC(Cc1ccccc1)c1ccccc1\n",
      "The Num of Prods is not 1, skipped [O-][Cl+3]([O-])([O-])[O-].c1ccc(C(CN2CCCCC2)[n+]2ccccc2)cc1\n"
     ]
    },
    {
     "name": "stderr",
     "output_type": "stream",
     "text": [
      " 73%|███████▎  | 12939/17702 [00:01<00:00, 6775.16it/s]"
     ]
    },
    {
     "name": "stdout",
     "output_type": "stream",
     "text": [
      "The Num of Prods is not 1, skipped Cc1ccc(C(CCCCC#N)c2ccc3ccccc3c2)cc1.O=C=O\n",
      "The Num of Prods is not 1, skipped CC#N.CC(C)(C)O[K].Cl[Cu].O=c1oc2ccccc2cc1-c1ccc(C#Cc2ccccc2)cc1\n"
     ]
    },
    {
     "name": "stderr",
     "output_type": "stream",
     "text": [
      " 83%|████████▎ | 14625/17702 [00:01<00:00, 7617.64it/s]"
     ]
    },
    {
     "name": "stdout",
     "output_type": "stream",
     "text": [
      "The Num of Prods is not 1, skipped CN[N+](C)(C)C(c1ccc(N(C)CC(F)(F)F)cc1)c1ccc(N(C)CC(F)(F)F)cc1.F[B-](F)(F)F\n",
      "The Num of Prods is not 1, skipped CN(CC(F)(F)F)c1ccc(C(c2ccc(N(C)CC(F)(F)F)cc2)[N+](C)(C)N)cc1.F[B-](F)(F)F\n",
      "The Num of Prods is not 1, skipped C[Si](C)(C)C[CH+]CC(c1ccccc1)c1ccccc1.[Cl-]\n",
      "The Num of Prods is not 1, skipped C[Si](C)(C)C[CH+]CC(c1ccccc1)c1ccccc1.[Br-]\n",
      "The Num of Prods is not 1, skipped C[n+]1ccc(C=Cc2ccccc2)cc1.[I-]\n",
      "The Num of Prods is not 1, skipped C[n+]1ccc(C=Cc2ccccc2)cc1.[I-]\n",
      "The Num of Prods is not 1, skipped C[n+]1ccc(C=Cc2ccccc2)cc1.[I-]\n",
      "The Num of Prods is not 1, skipped COS(=O)(=O)[O-].C[n+]1ccc(C=Cc2ccccc2)cc1\n",
      "The Num of Prods is not 1, skipped COS(=O)(=O)[O-].C[n+]1ccc(C=Cc2ccccc2)cc1\n",
      "The Num of Prods is not 1, skipped COS(=O)(=O)[O-].C[n+]1ccc(C=Cc2ccccc2)cc1\n",
      "The Num of Prods is not 1, skipped CCCN1c2ccc(Br)cc2C(C)(C)C12C=Cc1c(ccc3c1ccc[n+]3C)O2.[I-]\n"
     ]
    },
    {
     "name": "stderr",
     "output_type": "stream",
     "text": [
      " 97%|█████████▋| 17091/17702 [00:02<00:00, 7285.00it/s]"
     ]
    },
    {
     "name": "stdout",
     "output_type": "stream",
     "text": [
      "The Num of Prods is not 1, skipped C=C[C@@H](O)CC[C@H](CCCCC[C@H](C)O[Si](c1ccccc1)(c1ccccc1)C(C)(C)C)OCOC.COCO[C@@H](CCCCC[C@H](C)O[Si](c1ccccc1)(c1ccccc1)C(C)(C)C)CC[C@@H](O)[C@@H]1CO1\n",
      "The Num of Prods is not 1, skipped C=CC[C@@H]1[C@@]2(COC)CC[C@H](O[Si](C)(C)C(C)(C)C)[C@]1(COC(C)=O)CN(C(=O)OC(C)(C)C)C2.C=CC[C@H]1[C@@]2(COC)CC[C@H](O[Si](C)(C)C(C)(C)C)[C@]1(COC(C)=O)CN(C(=O)OC(C)(C)C)C2\n",
      "The Num of Prods is not 1, skipped C=CC[C@@H](O)c1ccc(Cl)cc1.C=CC[C@H](O)c1ccc(Cl)cc1\n",
      "The Num of Prods is not 1, skipped C=C(CC)C[C@@H](O)C[C@H]1COC(CC)(CC)O1.C=C(CC)C[C@H](O)C[C@H]1COC(CC)(CC)O1\n",
      "The Num of Prods is not 1, skipped C=CC[C@@H](O)C[C@@H]1C[C@H](O[Si](C)(C)C(C)(C)C)C[C@H](/C=C/c2ccccc2)O1.C=CC[C@H](O)C[C@@H]1C[C@H](O[Si](C)(C)C(C)(C)C)C[C@H](/C=C/c2ccccc2)O1\n",
      "The Num of Prods is not 1, skipped CC(=O)[CH]C(C)=O.[K+]\n",
      "The Num of Prods is not 1, skipped CC(=O)[CH]C(C)=O.[K+]\n",
      "The Num of Prods is not 1, skipped O=S(=O)([O-])c1ccccc1[C](c1ccccc1)c1ccccc1.[Li+]\n",
      "The Num of Prods is not 1, skipped Cc1cc(C)c([C]([O-])c2c(C)cc(C)cc2C)c(C)c1.[Li+]\n",
      "The Num of Prods is not 1, skipped O=C([O-])[CH]c1ccccc1.[Li+]\n",
      "The Num of Prods is not 1, skipped Cc1ccc([C](c2ccccc2)c2ccc(C)o2)o1.I.[K]\n",
      "The Num of Prods is not 1, skipped CCOC(=O)Oc1c(Cl)c(Cl)c([C](c2c(Cl)c(Cl)c(Cl)c(Cl)c2Cl)c2c(Cl)c(Cl)c(Cl)c(Cl)c2Cl)c(Cl)c1Cl.O=C(N[C@@H](Cc1ccccc1)C(=O)Oc1c(Cl)c(Cl)c([C](c2c(Cl)c(Cl)c(Cl)c(Cl)c2Cl)c2c(Cl)c(Cl)c(Cl)c(Cl)c2Cl)c(Cl)c1Cl)OCc1ccccc1.O=C1C(Cl)=C(Cl)C(=C(c2c(Cl)c(Cl)c(Cl)c(Cl)c2Cl)c2c(Cl)c(Cl)c(Cl)c(Cl)c2Cl)C(Cl)=C1Cl\n",
      "The Num of Prods is not 1, skipped CCCCSc1nccn1C.N#C[C](C#N)c1ccc([C-](C#N)C#N)cc1.[H+]\n",
      "The Num of Prods is not 1, skipped C[n+]1ccn(CC#N)c1.N#C[C](C#N)c1ccc([C-](C#N)C#N)cc1\n",
      "The Num of Prods is not 1, skipped Cc1cc(C)c([C]([O-])c2ccccc2)c(C)c1.[Li+]\n",
      "The Num of Prods is not 1, skipped Cc1ccccc1CCc1ccccc1C.[CH2]c1ccccc1\n",
      "The Num of Prods is not 1, skipped Cc1ccc(-c2cc(C#N)ccn2)cc1.Cc1ccc(-c2cnccc2C#N)cc1.N#Cc1ccnc(-c2ccc(C=O)cc2)c1\n",
      "The Num of Prods is not 1, skipped COc1ccc(-c2cc(C#N)ccn2)cc1.COc1ccc(-c2cnccc2C#N)cc1.COc1ccc(-c2nccc(C#N)c2-c2ccc(OC)cc2)cc1\n",
      "The Num of Prods is not 1, skipped CC1(c2nc(C3(C)CCCCC3)c3ccccc3n2)CCCCC1.CC1(c2ncnc3ccccc23)CCCCC1\n",
      "The Num of Prods is not 1, skipped N#Cc1ccc([C@@H]2C[C@H](c3cc(C#N)ccn3)C[C@H](c3ncccc3C#N)C2)nc1.N#Cc1ccnc([C@H]2C[C@@H](c3cc(C#N)ccn3)C[C@@H](c3cc(C#N)ccn3)C2)c1\n",
      "The Num of Prods is not 1, skipped CC(=O)c1cc(C#N)cc(C)n1.CC(=O)c1cc(C#N)ccn1\n",
      "The Num of Prods is not 1, skipped CC(=O)c1ccnc(C(=O)C(C)C)c1.CC(=O)c1ccnc(C(C)C)c1\n",
      "The Num of Prods is not 1, skipped CCOC(=O)c1ccc(C(=O)C(C)CC)nc1C.CCOC(=O)c1ccc(C(C)CC)nc1C\n",
      "The Num of Prods is not 1, skipped CCCCCCCCCC(CCC(=O)OCC)C(=O)OCC.CCCCCCCCCCC(=O)OCC\n"
     ]
    },
    {
     "name": "stderr",
     "output_type": "stream",
     "text": [
      "100%|██████████| 17702/17702 [00:02<00:00, 7472.79it/s]"
     ]
    },
    {
     "name": "stdout",
     "output_type": "stream",
     "text": [
      "The Num of Prods is not 1, skipped C=CCN(C12CC(C1)C2)S(=O)(=O)c1ccc(C)cc1.C=CCN(C12CC(CCC(=O)OC)(C1)C2)S(=O)(=O)c1ccc(C)cc1\n",
      "The Num of Prods is not 1, skipped C=CCN(C12CC(C1)C2)S(=O)(=O)c1ccc(C)cc1.C=CCN(C12CC(CC(CCC(=O)OC)C(=O)OC)(C1)C2)S(=O)(=O)c1ccc(C)cc1.C=CCN(C12CC(CCC(=O)OC)(C1)C2)S(=O)(=O)c1ccc(C)cc1\n",
      "The Num of Prods is not 1, skipped CCOc1ccc(-c2ccc(C(CC(=O)OC)C(=O)OC)cc2)cc1.CCOc1ccc(-c2ccccc2)cc1\n",
      "The Num of Prods is not 1, skipped CCOc1ccc(-c2ccc(CCC(=O)OC)cc2)cc1.CCOc1ccc(-c2ccccc2)cc1\n",
      "The Num of Prods is not 1, skipped CCOc1ccc(-c2ccc(CCC(N)=O)cc2)cc1.CCOc1ccc(-c2ccccc2)cc1\n",
      "The Num of Prods is not 1, skipped CCOc1ccc(-c2ccc(CCC=O)cc2)cc1.CCOc1ccc(-c2ccccc2)cc1\n"
     ]
    },
    {
     "name": "stderr",
     "output_type": "stream",
     "text": [
      "\n"
     ]
    }
   ],
   "source": [
    "reactants_mol = []\n",
    "products_mol = []\n",
    "rxn_types = []\n",
    "for i, row in tqdm(df_raw.iterrows(), total=len(df_raw)):\n",
    "    rxn = row[\"rxn\"]\n",
    "    prods = rxn.split(\">>\")[1]\n",
    "    reacts = rxn.split(\">>\")[0]\n",
    "\n",
    "    if len(prods.split(\".\")) != 1:\n",
    "        print(f\"The Num of Prods is not 1, skipped {prods}\")\n",
    "        continue\n",
    "    try:\n",
    "        mol_prods = AllChem.MolFromSmiles(prods)\n",
    "        mol_reacts = AllChem.MolFromSmiles(reacts)\n",
    "\n",
    "        if (mol_prods is None) or (mol_reacts is None):\n",
    "            print(f\"Failed to get mol, skipped {prods}\")\n",
    "            continue\n",
    "        else:\n",
    "            reactants_mol.append(mol_reacts)\n",
    "            products_mol.append(mol_prods)\n",
    "            rxn_types.append(row[\"cls\"])\n",
    "    except Exception as e:\n",
    "        print(e)"
   ]
  },
  {
   "cell_type": "code",
   "execution_count": 33,
   "metadata": {},
   "outputs": [
    {
     "name": "stdout",
     "output_type": "stream",
     "text": [
      "17593 17593 17593\n"
     ]
    }
   ],
   "source": [
    "print(len(reactants_mol), len(products_mol), len(rxn_types))"
   ]
  },
  {
   "cell_type": "code",
   "execution_count": 34,
   "metadata": {},
   "outputs": [],
   "source": [
    "df = pd.DataFrame(\n",
    "    {\n",
    "        \"reactants_mol\": reactants_mol,\n",
    "        \"products_mol\": products_mol,\n",
    "    }\n",
    ")"
   ]
  },
  {
   "cell_type": "code",
   "execution_count": 35,
   "metadata": {},
   "outputs": [
    {
     "name": "stdout",
     "output_type": "stream",
     "text": [
      "Counter({'train': 14074, 'test': 1760, 'valid': 1759})\n",
      "write extra test csv file to data/radicals/radicals_fold0_test_src.txt and data/radicals/radicals_fold0_test_tgt.txt\n",
      "Counter({'train': 14074, 'test': 1760, 'valid': 1759})\n",
      "write extra test csv file to data/radicals/radicals_fold1_test_src.txt and data/radicals/radicals_fold1_test_tgt.txt\n",
      "Counter({'train': 14074, 'test': 1760, 'valid': 1759})\n",
      "write extra test csv file to data/radicals/radicals_fold2_test_src.txt and data/radicals/radicals_fold2_test_tgt.txt\n",
      "Counter({'train': 14075, 'test': 1759, 'valid': 1759})\n",
      "write extra test csv file to data/radicals/radicals_fold3_test_src.txt and data/radicals/radicals_fold3_test_tgt.txt\n",
      "Counter({'train': 14075, 'test': 1759, 'valid': 1759})\n",
      "write extra test csv file to data/radicals/radicals_fold4_test_src.txt and data/radicals/radicals_fold4_test_tgt.txt\n"
     ]
    }
   ],
   "source": [
    "skf = StratifiedKFold(shuffle=True, random_state=42)\n",
    "\n",
    "\n",
    "def to_csv(df, path, mode=\"train\"):\n",
    "    df[\"set\"] = mode\n",
    "    df.to_pickle(path, index=None)\n",
    "    print(f\"write into {path}\")\n",
    "\n",
    "\n",
    "for i, (train_idx, test_idx) in enumerate(skf.split(df, rxn_types)):\n",
    "    FOLD = OUT_PATH / f\"radicals_fold{i}.pkl\"\n",
    "    extra_test_src = OUT_PATH / f\"radicals_fold{i}_test_src.txt\"\n",
    "    extra_test_tgt = OUT_PATH / f\"radicals_fold{i}_test_tgt.txt\"\n",
    "\n",
    "    # test 再分成 valid 和 test\n",
    "    val_idx, test_idx = train_test_split(test_idx, train_size=0.5, random_state=42)\n",
    "    with open(f\"tmp/idx_fold{i}.pkl\", \"wb\") as f:\n",
    "        pickle.dump(test_idx, f)\n",
    "    df.loc[train_idx, \"set\"] = \"train\"\n",
    "    df.loc[val_idx, \"set\"] = \"valid\"\n",
    "    df.loc[test_idx, \"set\"] = \"test\"\n",
    "\n",
    "    df[\"reaction_type\"] = rxn_types\n",
    "    print(Counter(df[\"set\"]))\n",
    "    df.to_pickle(FOLD)\n",
    "\n",
    "    df_test = df[df[\"set\"] == \"test\"]\n",
    "    print(f\"write extra test csv file to {extra_test_src} and {extra_test_tgt}\")\n",
    "    pd.DataFrame(\n",
    "        {\"smi\": [AllChem.MolToSmiles(mol) for mol in df_test[\"products_mol\"]]}\n",
    "    ).to_csv(extra_test_tgt, index=None, header=None)\n",
    "    pd.DataFrame(\n",
    "        {\"smi\": [AllChem.MolToSmiles(mol) for mol in df_test[\"reactants_mol\"]]}\n",
    "    ).to_csv(extra_test_src, index=None, header=None)"
   ]
  },
  {
   "cell_type": "code",
   "execution_count": null,
   "metadata": {},
   "outputs": [],
   "source": []
  }
 ],
 "metadata": {
  "kernelspec": {
   "display_name": "molbart2",
   "language": "python",
   "name": "python3"
  },
  "language_info": {
   "codemirror_mode": {
    "name": "ipython",
    "version": 3
   },
   "file_extension": ".py",
   "mimetype": "text/x-python",
   "name": "python",
   "nbconvert_exporter": "python",
   "pygments_lexer": "ipython3",
   "version": "3.7.12"
  },
  "orig_nbformat": 4
 },
 "nbformat": 4,
 "nbformat_minor": 2
}
